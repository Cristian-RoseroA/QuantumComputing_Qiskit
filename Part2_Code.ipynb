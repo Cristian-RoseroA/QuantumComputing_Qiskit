{
 "cells": [
  {
   "attachments": {},
   "cell_type": "markdown",
   "id": "7fbdc4db-4441-431d-8fbe-40b57c1e34ed",
   "metadata": {},
   "source": [
    "## ________________________________________________________________________\n",
    "## Quantum Problem Mapping: Transverse Field Ising Model (TFIM)\n",
    "## _Updated for Qiskit 2.0 - Using New Reference Primitives_"
   ]
  },
  {
   "cell_type": "code",
   "execution_count": 14,
   "id": "053f7f72-4497-4ee0-9780-8fdcf8515615",
   "metadata": {},
   "outputs": [],
   "source": [
    "#Import essential libraries for Qiskit\n",
    "from qiskit import QuantumCircuit, transpile\n",
    "from qiskit.quantum_info import SparsePauliOp, Statevector\n",
    "from qiskit.primitives import StatevectorSampler, StatevectorEstimator # New primitives.\n",
    "from qiskit.visualization import plot_histogram, plot_state_city\n",
    "import numpy as np"
   ]
  },
  {
   "cell_type": "markdown",
   "id": "1ebe06ca-df75-410b-a994-bf0f63bd833b",
   "metadata": {},
   "source": [
    "# ________________________________________________________________________\n",
    "# Step 1: Map Problem to Circuits and Observables"
   ]
  },
  {
   "cell_type": "code",
   "execution_count": 15,
   "id": "9b86cfe9-1567-42ad-a0aa-f6842680bee9",
   "metadata": {},
   "outputs": [],
   "source": [
    "# Define TFIM parameters\n",
    "num_qubits =4\n",
    "J = 1.0 #Interaction strength\n",
    "h = 0.5 #Transverse field strength\n",
    "trotter_steps = 3 # Time evolution steps\n",
    "shots = 5000\n",
    "\n",
    "# build time evolution circuit\n",
    "def build_tfim_circuit(num_qubits, J, h, trotter_steps):\n",
    "    \"\"\"\n",
    "    Constructs quantum circuit for TFIM time evolution using Trotterization\n",
    "\n",
    "    Physics Insight:\n",
    "    TFIM Hamiltonian: H = -J Sum Z_i Z_{i+1} -h Sum X_i\n",
    "    Trotter decomposition: e^{-iHt} ≈ [e^{-iH_zz δt} e^{-iH_x δt}]^N\n",
    "    \"\"\"\n",
    "    qc = QuantumCircuit(num_qubits, name =\"TFIM Evolution\")\n",
    "\n",
    "    # Time evolution for each Trotter step\n",
    "    for step in range(trotter_steps):\n",
    "        #ZZ interaction terms\n",
    "        for i in range(num_qubits -1):\n",
    "            qc.cx(i,i+1)\n",
    "            qc.rz(2*J/trotter_steps, i+1) # Angle adjusted for Trotter steps\n",
    "            qc.cx(i,i+1)\n",
    "\n",
    "        #Transverse field terms\n",
    "        #Physics: e^{-iH_x δt}]^N\n",
    "        for i in range(num_qubits):\n",
    "            qc.rx(2*h/trotter_steps, i) #Rx rotation implements X term\n",
    "\n",
    "    return qc\n",
    "#Create the evolution circuit ( no measurements for Estimator)\n",
    "tfim_circuit = build_tfim_circuit(num_qubits, J,h,trotter_steps)\n",
    "\n",
    "#Create measurement circuit for Sampler\n",
    "tfim_circuit_with_measurement = tfim_circuit.copy()\n",
    "tfim_circuit_with_measurement.measure_all()\n",
    "\n",
    "    \n",
    "    "
   ]
  },
  {
   "cell_type": "markdown",
   "id": "587359c1-e418-4819-8846-c54b4c5b8e07",
   "metadata": {},
   "source": [
    "# ________________________________________________________________________\n",
    "# Step 2: Define Observables for Qiskit 2.0"
   ]
  },
  {
   "cell_type": "code",
   "execution_count": 19,
   "id": "d4896d18-a15f-4bf5-ac37-7b24a5977908",
   "metadata": {},
   "outputs": [],
   "source": [
    "\"\"\"\n",
    "Observable Definition in Qiskit 2.0:\n",
    "- All observables must be SparsePauliOp objects\n",
    "- String notation supported: \"ZZII\", \"XIXI\", etc.\n",
    "- Coefficients can be complex numbers\n",
    "\"\"\"\n",
    "\n",
    "#Define magnetization observable (single-site)\n",
    "magnetization = SparsePauliOp(\"IIIZ\")/num_qubits\n",
    "\n",
    "#Define full TFIM Hamiltonian for energy calculation\n",
    "hamiltonian_terms = []\n",
    "coefficients = []\n",
    "\n",
    "#ZZ interaction terms\n",
    "for i in range(num_qubits -1):\n",
    "    pauli_string = \"I\"*i + \"ZZ\" + \"I\"*(num_qubits -i -2)\n",
    "    hamiltonian_terms.append(pauli_string)\n",
    "    coefficients.append(-J)\n",
    "\n",
    "\n",
    "# X field terms\n",
    "for i in range(num_qubits):\n",
    "    pauli_string = \"I\"*i + \"X\" +\"I\"*(num_qubits - i -1)\n",
    "    hamiltonian_terms.append(pauli_string)\n",
    "    coefficients.append(-h)\n",
    "#Construct full hamiltonian\n",
    "full_hamiltonian = SparsePauliOp(hamiltonian_terms,coefficients)"
   ]
  },
  {
   "cell_type": "markdown",
   "id": "40b2ecb9-cb0d-43d7-ab69-9c17c3ba67ab",
   "metadata": {},
   "source": [
    "# ________________________________________________________________________\n",
    "# Step 3: Execute with Qiskit 2.0 primitives"
   ]
  },
  {
   "cell_type": "code",
   "execution_count": 26,
   "id": "47be4806-4c7d-4e34-a3ea-5245684972a6",
   "metadata": {},
   "outputs": [
    {
     "name": "stdout",
     "output_type": "stream",
     "text": [
      "Executing with StatevectorSampler...\n",
      "Executing with StatevectorEstimator...\n"
     ]
    }
   ],
   "source": [
    "\"\"\"\n",
    "Execution Model in Qiskit 2.0:\n",
    "1. StatevectorSampler: For measurement sampling\n",
    "2. StatevectorEstimator: For expectation value computation\n",
    "3. PUB format: (circuit, [observables], [parameters])\n",
    "\"\"\"\n",
    "#Initialize\n",
    "sampler = StatevectorSampler(default_shots=shots, seed=42)\n",
    "estimator = StatevectorEstimator(default_precision=0.01, seed=42)\n",
    "\n",
    "#Execute with StatevectorSampler (PUB format)\n",
    "print(\"Executing with StatevectorSampler...\")\n",
    "sampler_pub = (tfim_circuit_with_measurement,) # PUB tuple\n",
    "sampler_job = sampler.run([sampler_pub])\n",
    "sampler_result = sampler_job.result()\n",
    "\n",
    "#Access measurement results from the new data structure\n",
    "counts = sampler_result[0].data.meas.get_counts() # meas is default register name\n",
    "\n",
    "#Execute with StatevectorEstimator (PUB format)\n",
    "print(\"Executing with StatevectorEstimator...\")\n",
    "estimator_pub = (tfim_circuit, [magnetization]) # PUB with observables\n",
    "magnetization_job = estimator.run([estimator_pub])\n",
    "magnetization_result = magnetization_job.result()\n",
    "mag_expectation = magnetization_result[0].data.evs[0]\n",
    "\n",
    "#Calculate full energy\n",
    "energy_pub = (tfim_circuit, [full_hamiltonian]) \n",
    "energy_job = estimator.run([energy_pub])\n",
    "energy_result = energy_job.result()\n",
    "energy_expectation = energy_result[0].data.evs[0]\n",
    "\n",
    "\n",
    "\n",
    "\n",
    "\n",
    "\n"
   ]
  },
  {
   "cell_type": "markdown",
   "id": "acbb8bba-6d15-4fd3-8139-e2ae0e53c96e",
   "metadata": {},
   "source": [
    "# ________________________________________________________________________\n",
    "# Step 4: Advanced Analysis with Statevector"
   ]
  },
  {
   "cell_type": "code",
   "execution_count": 27,
   "id": "ceffa889-e9f5-47b4-9112-d87d7e7d6036",
   "metadata": {},
   "outputs": [],
   "source": [
    "#Get exact statevector for comparison\n",
    "statevector = Statevector(tfim_circuit)\n",
    "\n",
    "#Compute exact expectation values\n",
    "exact_magnetization = statevector.expectation_value(magnetization).real\n",
    "exact_energy = statevector.expectation_value(full_hamiltonian).real"
   ]
  },
  {
   "cell_type": "markdown",
   "id": "8a3bbbd3-24c8-4c5a-a4af-99b7307ecf58",
   "metadata": {},
   "source": [
    "# ________________________________________________________________________\n",
    "# Step 5: Error Mitigation and Post-Processing"
   ]
  },
  {
   "cell_type": "code",
   "execution_count": 28,
   "id": "19926c25-69c0-4041-9139-a047f5c26675",
   "metadata": {},
   "outputs": [],
   "source": [
    "def apply_readout_corrections(counts,error_rate=0.02):\n",
    "\n",
    "    corrected_counts ={}\n",
    "    for bitstring, count in counts.items():\n",
    "        #Apply correction based on error model\n",
    "        corrected_count = count*(1-error_rate)**len(bitstring)\n",
    "        corrected_counts[bitstring] = int(corrected_count)\n",
    "\n",
    "#Apply corrections\n",
    "corrected_counts = apply_readout_corrections(counts)\n",
    "\n",
    "        "
   ]
  },
  {
   "cell_type": "markdown",
   "id": "387937f0-202d-4b87-bdb1-e1f442baafd2",
   "metadata": {},
   "source": [
    "# ________________________________________________________________________\n",
    "# Visualization and Results"
   ]
  },
  {
   "cell_type": "code",
   "execution_count": 29,
   "id": "b5d0a569-7690-4c67-a988-f559d86fb7a6",
   "metadata": {},
   "outputs": [
    {
     "name": "stdout",
     "output_type": "stream",
     "text": [
      "\n",
      "============================================================\n",
      "TFIM SIMULATION RESULTS (Qiskit 2.0)\n",
      "============================================================\n",
      "System parameters:\n",
      "  - Qubits: 4\n",
      "  - Interaction strength J: 1.0\n",
      "  - Transverse field h: 0.5\n",
      "  - h/J ratio: 0.50\n",
      "  - Trotter steps: 3\n",
      "\n",
      "Magnetization results:\n",
      "  - Exact (statevector): 0.165247\n",
      "  - Estimated (primitive): 0.168295\n",
      "  - Theoretical (h/J=0.5): 0.820000\n",
      "\n",
      "Energy results:\n",
      "  - Exact energy: -2.876543\n",
      "  - Estimated energy: -2.873496\n",
      "\n",
      "Quantum phase analysis:\n",
      "  - System in ORDERED phase (ferromagnetic)\n",
      "  - Expected high magnetization\n"
     ]
    }
   ],
   "source": [
    "\n",
    "# Plot measurement distribution\n",
    "plot_histogram(counts, title=\"TFIM Measurement Results (Qiskit 2.0)\")\n",
    "\n",
    "# Plot statevector\n",
    "plot_state_city(statevector, title=\"TFIM Quantum State\")\n",
    "\n",
    "# Print comprehensive results\n",
    "print(\"\\n\" + \"=\"*60)\n",
    "print(\"TFIM SIMULATION RESULTS (Qiskit 2.0)\")\n",
    "print(\"=\"*60)\n",
    "print(f\"System parameters:\")\n",
    "print(f\"  - Qubits: {num_qubits}\")\n",
    "print(f\"  - Interaction strength J: {J}\")\n",
    "print(f\"  - Transverse field h: {h}\")\n",
    "print(f\"  - h/J ratio: {h/J:.2f}\")\n",
    "print(f\"  - Trotter steps: {trotter_steps}\")\n",
    "print()\n",
    "print(f\"Magnetization results:\")\n",
    "print(f\"  - Exact (statevector): {exact_magnetization:.6f}\")\n",
    "print(f\"  - Estimated (primitive): {mag_expectation:.6f}\")\n",
    "print(f\"  - Theoretical (h/J={h/J:.1f}): {0.82 if h/J < 1 else 0.18:.6f}\")\n",
    "print()\n",
    "print(f\"Energy results:\")\n",
    "print(f\"  - Exact energy: {exact_energy:.6f}\")\n",
    "print(f\"  - Estimated energy: {energy_expectation:.6f}\")\n",
    "print()\n",
    "print(f\"Quantum phase analysis:\")\n",
    "if h/J < 1:\n",
    "    print(f\"  - System in ORDERED phase (ferromagnetic)\")\n",
    "    print(f\"  - Expected high magnetization\")\n",
    "else:\n",
    "    print(f\"  - System in DISORDERED phase (paramagnetic)\")\n",
    "    print(f\"  - Expected low magnetization\")\n"
   ]
  },
  {
   "cell_type": "markdown",
   "id": "d733e5d8-0b07-4ad1-a8bd-0b1c40991bdd",
   "metadata": {},
   "source": [
    "# ________________________________________________________________________\n",
    "# Advanced: Parameter Sweep Example"
   ]
  }
 ],
 "metadata": {
  "kernelspec": {
   "display_name": "Python 3 (ipykernel)",
   "language": "python",
   "name": "python3"
  },
  "language_info": {
   "codemirror_mode": {
    "name": "ipython",
    "version": 3
   },
   "file_extension": ".py",
   "mimetype": "text/x-python",
   "name": "python",
   "nbconvert_exporter": "python",
   "pygments_lexer": "ipython3",
   "version": "3.12.9"
  }
 },
 "nbformat": 4,
 "nbformat_minor": 5
}
